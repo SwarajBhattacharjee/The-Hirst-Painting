{
 "cells": [
  {
   "cell_type": "code",
   "execution_count": null,
   "id": "90bb0ee8",
   "metadata": {},
   "outputs": [],
   "source": [
    "from turtle import Turtle,Screen\n",
    "timmy_the_turtle = Turtle()\n",
    "\n",
    "timmy_the_turtle.shape(\"turtle\")\n",
    "timmy_the_turtle.color(\"red\")\n",
    "\n",
    "\n",
    "screen = Screen()\n",
    "screen.exitonclick()"
   ]
  }
 ],
 "metadata": {
  "kernelspec": {
   "display_name": "base",
   "language": "python",
   "name": "python3"
  },
  "language_info": {
   "codemirror_mode": {
    "name": "ipython",
    "version": 3
   },
   "file_extension": ".py",
   "mimetype": "text/x-python",
   "name": "python",
   "nbconvert_exporter": "python",
   "pygments_lexer": "ipython3",
   "version": "3.12.7"
  }
 },
 "nbformat": 4,
 "nbformat_minor": 5
}
